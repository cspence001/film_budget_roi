{
 "cells": [
  {
   "cell_type": "code",
   "execution_count": 8,
   "metadata": {},
   "outputs": [],
   "source": [
    "import pandas as pd\n",
    "\n",
    "a = pd.read_csv(\"Resources/MovieData.csv\")\n",
    "file = pd.DataFrame(a)\n",
    "\n",
    "b = file['domestic_box_office'] + file['international_box_office']\n",
    "BoxOffice = pd.DataFrame(b)\n",
    "file['BoxOffice'] = BoxOffice\n",
    "\n",
    "c = file['BoxOffice'] / file['production_budget']\n",
    "ROI = pd.DataFrame(c)\n",
    "file['ROI'] = ROI\n",
    "\n",
    "DomesticFilms = file[file.rating != \"Not Rated\"]\n",
    "InternationalFilms = file[file.rating == \"Not Rated\"]"
   ]
  },
  {
   "cell_type": "code",
   "execution_count": 9,
   "metadata": {},
   "outputs": [
    {
     "name": "stdout",
     "output_type": "stream",
     "text": [
      "3                   Comedy\n",
      "13                  Action\n",
      "14                   Drama\n",
      "23                  Horror\n",
      "29               Adventure\n",
      "37            Black Comedy\n",
      "53       Thriller/Suspense\n",
      "65         Romantic Comedy\n",
      "84                 Western\n",
      "134                Musical\n",
      "344    Concert/Performance\n",
      "568            Documentary\n",
      "Name: genre, dtype: object\n"
     ]
    }
   ],
   "source": [
    "#listing genres\n",
    "\n",
    "DomesticFilms1 = DomesticFilms.dropna()\n",
    "d = DomesticFilms1.drop_duplicates(['genre'])\n",
    "print(d['genre'])"
   ]
  },
  {
   "cell_type": "code",
   "execution_count": 7,
   "metadata": {
    "scrolled": true
   },
   "outputs": [
    {
     "ename": "NameError",
     "evalue": "name 'e' is not defined",
     "output_type": "error",
     "traceback": [
      "\u001b[0;31m---------------------------------------------------------------------------\u001b[0m",
      "\u001b[0;31mNameError\u001b[0m                                 Traceback (most recent call last)",
      "\u001b[0;32m<ipython-input-7-36bb614f78df>\u001b[0m in \u001b[0;36m<module>\u001b[0;34m\u001b[0m\n\u001b[1;32m      1\u001b[0m \u001b[0;31m#creating unique dataframe for each genre\u001b[0m\u001b[0;34m\u001b[0m\u001b[0;34m\u001b[0m\u001b[0;34m\u001b[0m\u001b[0m\n\u001b[1;32m      2\u001b[0m \u001b[0;34m\u001b[0m\u001b[0m\n\u001b[0;32m----> 3\u001b[0;31m \u001b[0mf\u001b[0m \u001b[0;34m=\u001b[0m \u001b[0me\u001b[0m\u001b[0;34m[\u001b[0m\u001b[0me\u001b[0m\u001b[0;34m.\u001b[0m\u001b[0mgenre\u001b[0m \u001b[0;34m==\u001b[0m \u001b[0;34m\"Action\"\u001b[0m\u001b[0;34m]\u001b[0m\u001b[0;34m\u001b[0m\u001b[0;34m\u001b[0m\u001b[0m\n\u001b[0m\u001b[1;32m      4\u001b[0m \u001b[0mg\u001b[0m \u001b[0;34m=\u001b[0m \u001b[0me\u001b[0m\u001b[0;34m[\u001b[0m\u001b[0me\u001b[0m\u001b[0;34m.\u001b[0m\u001b[0mgenre\u001b[0m \u001b[0;34m==\u001b[0m \u001b[0;34m\"Comedy\"\u001b[0m\u001b[0;34m]\u001b[0m\u001b[0;34m\u001b[0m\u001b[0;34m\u001b[0m\u001b[0m\n\u001b[1;32m      5\u001b[0m \u001b[0mh\u001b[0m \u001b[0;34m=\u001b[0m \u001b[0me\u001b[0m\u001b[0;34m[\u001b[0m\u001b[0me\u001b[0m\u001b[0;34m.\u001b[0m\u001b[0mgenre\u001b[0m \u001b[0;34m==\u001b[0m \u001b[0;34m\"Drama\"\u001b[0m\u001b[0;34m]\u001b[0m\u001b[0;34m\u001b[0m\u001b[0;34m\u001b[0m\u001b[0m\n",
      "\u001b[0;31mNameError\u001b[0m: name 'e' is not defined"
     ]
    }
   ],
   "source": [
    "#creating unique dataframe for each genre\n",
    "\n",
    "f = e[e.genre == \"Action\"]\n",
    "g = e[e.genre == \"Comedy\"]\n",
    "h = e[e.genre == \"Drama\"]\n",
    "i = e[e.genre == \"Horror\"]\n",
    "j = e[e.genre == \"Adventure\"]\n",
    "k = e[e.genre == \"Black Comedy\"]\n",
    "l = e[e.genre == \"Thriller/Suspense\"]\n",
    "m = e[e.genre == \"Romantic Comedy\"]\n",
    "n = e[e.genre == \"Western\"]\n",
    "o = e[e.genre == \"Musical\"]\n",
    "p = e[e.genre == \"Concert/Performance\"]\n",
    "q = e[e.genre == \"Documentary\"]"
   ]
  },
  {
   "cell_type": "code",
   "execution_count": 4,
   "metadata": {},
   "outputs": [
    {
     "ename": "NameError",
     "evalue": "name 'f' is not defined",
     "output_type": "error",
     "traceback": [
      "\u001b[0;31m---------------------------------------------------------------------------\u001b[0m",
      "\u001b[0;31mNameError\u001b[0m                                 Traceback (most recent call last)",
      "\u001b[0;32m<ipython-input-4-d00e0364303a>\u001b[0m in \u001b[0;36m<module>\u001b[0;34m\u001b[0m\n\u001b[1;32m      4\u001b[0m \u001b[0;34m\u001b[0m\u001b[0m\n\u001b[1;32m      5\u001b[0m \u001b[0;34m\u001b[0m\u001b[0m\n\u001b[0;32m----> 6\u001b[0;31m \u001b[0mmodel1\u001b[0m \u001b[0;34m=\u001b[0m \u001b[0msm\u001b[0m\u001b[0;34m.\u001b[0m\u001b[0mOLS\u001b[0m\u001b[0;34m(\u001b[0m\u001b[0mf\u001b[0m\u001b[0;34m[\u001b[0m\u001b[0;34m'BoxOffice'\u001b[0m\u001b[0;34m]\u001b[0m\u001b[0;34m,\u001b[0m \u001b[0mf\u001b[0m\u001b[0;34m[\u001b[0m\u001b[0;34m'production_budget'\u001b[0m\u001b[0;34m]\u001b[0m\u001b[0;34m)\u001b[0m\u001b[0;34m.\u001b[0m\u001b[0mfit\u001b[0m\u001b[0;34m(\u001b[0m\u001b[0;34m)\u001b[0m\u001b[0;34m\u001b[0m\u001b[0;34m\u001b[0m\u001b[0m\n\u001b[0m\u001b[1;32m      7\u001b[0m \u001b[0mmodel2\u001b[0m \u001b[0;34m=\u001b[0m \u001b[0msm\u001b[0m\u001b[0;34m.\u001b[0m\u001b[0mOLS\u001b[0m\u001b[0;34m(\u001b[0m\u001b[0mg\u001b[0m\u001b[0;34m[\u001b[0m\u001b[0;34m'BoxOffice'\u001b[0m\u001b[0;34m]\u001b[0m\u001b[0;34m,\u001b[0m \u001b[0mg\u001b[0m\u001b[0;34m[\u001b[0m\u001b[0;34m'production_budget'\u001b[0m\u001b[0;34m]\u001b[0m\u001b[0;34m)\u001b[0m\u001b[0;34m.\u001b[0m\u001b[0mfit\u001b[0m\u001b[0;34m(\u001b[0m\u001b[0;34m)\u001b[0m\u001b[0;34m\u001b[0m\u001b[0;34m\u001b[0m\u001b[0m\n\u001b[1;32m      8\u001b[0m \u001b[0mmodel3\u001b[0m \u001b[0;34m=\u001b[0m \u001b[0msm\u001b[0m\u001b[0;34m.\u001b[0m\u001b[0mOLS\u001b[0m\u001b[0;34m(\u001b[0m\u001b[0mh\u001b[0m\u001b[0;34m[\u001b[0m\u001b[0;34m'BoxOffice'\u001b[0m\u001b[0;34m]\u001b[0m\u001b[0;34m,\u001b[0m \u001b[0mh\u001b[0m\u001b[0;34m[\u001b[0m\u001b[0;34m'production_budget'\u001b[0m\u001b[0;34m]\u001b[0m\u001b[0;34m)\u001b[0m\u001b[0;34m.\u001b[0m\u001b[0mfit\u001b[0m\u001b[0;34m(\u001b[0m\u001b[0;34m)\u001b[0m\u001b[0;34m\u001b[0m\u001b[0;34m\u001b[0m\u001b[0m\n",
      "\u001b[0;31mNameError\u001b[0m: name 'f' is not defined"
     ]
    }
   ],
   "source": [
    "#now for the regression analysis\n",
    "\n",
    "import statsmodels.api as sm\n",
    "     \n",
    "\n",
    "model1 = sm.OLS(f['BoxOffice'], f['production_budget']).fit()\n",
    "model2 = sm.OLS(g['BoxOffice'], g['production_budget']).fit()\n",
    "model3 = sm.OLS(h['BoxOffice'], h['production_budget']).fit()\n",
    "model4 = sm.OLS(i['BoxOffice'], i['production_budget']).fit()\n",
    "model5 = sm.OLS(j['BoxOffice'], j['production_budget']).fit()\n",
    "model6 = sm.OLS(k['BoxOffice'], k['production_budget']).fit()\n",
    "model7 = sm.OLS(l['BoxOffice'], l['production_budget']).fit()\n",
    "model8 = sm.OLS(m['BoxOffice'], m['production_budget']).fit()\n",
    "model9 = sm.OLS(n['BoxOffice'], n['production_budget']).fit()\n",
    "model10 = sm.OLS(o['BoxOffice'], o['production_budget']).fit()\n",
    "model11 = sm.OLS(p['BoxOffice'], p['production_budget']).fit()\n",
    "model12 = sm.OLS(q['BoxOffice'], q['production_budget']).fit()\n",
    "\n",
    "box = [model1, model2, model3, model4, model5, model6, model7, model8, model9, model10, model11, model12]\n",
    "\n",
    "for model in box:\n",
    "    print(model.summary())\n",
    "    \n"
   ]
  },
  {
   "cell_type": "code",
   "execution_count": null,
   "metadata": {},
   "outputs": [],
   "source": []
  },
  {
   "cell_type": "code",
   "execution_count": null,
   "metadata": {},
   "outputs": [],
   "source": []
  }
 ],
 "metadata": {
  "kernelspec": {
   "display_name": "Python 3",
   "language": "python",
   "name": "python3"
  },
  "language_info": {
   "codemirror_mode": {
    "name": "ipython",
    "version": 3
   },
   "file_extension": ".py",
   "mimetype": "text/x-python",
   "name": "python",
   "nbconvert_exporter": "python",
   "pygments_lexer": "ipython3",
   "version": "3.8.3"
  }
 },
 "nbformat": 4,
 "nbformat_minor": 4
}
